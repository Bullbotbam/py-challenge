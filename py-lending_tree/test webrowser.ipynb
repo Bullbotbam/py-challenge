{
 "cells": [
  {
   "cell_type": "code",
   "execution_count": 1,
   "id": "44df5663",
   "metadata": {},
   "outputs": [],
   "source": [
    "import webbrowser as wb"
   ]
  },
  {
   "cell_type": "code",
   "execution_count": 4,
   "id": "02acb8dc",
   "metadata": {},
   "outputs": [
    {
     "data": {
      "text/plain": [
       "True"
      ]
     },
     "execution_count": 4,
     "metadata": {},
     "output_type": "execute_result"
    }
   ],
   "source": [
    "sup = \"https://www.wikipedia.org/\"\n",
    "wb.open(sup)"
   ]
  },
  {
   "cell_type": "code",
   "execution_count": 5,
   "id": "cea91540",
   "metadata": {},
   "outputs": [
    {
     "data": {
      "text/plain": [
       "True"
      ]
     },
     "execution_count": 5,
     "metadata": {},
     "output_type": "execute_result"
    }
   ],
   "source": [
    "free = 'https://www.google.com/'\n",
    "wb.open(free)"
   ]
  },
  {
   "cell_type": "code",
   "execution_count": null,
   "id": "796f68e3",
   "metadata": {},
   "outputs": [],
   "source": []
  }
 ],
 "metadata": {
  "kernelspec": {
   "display_name": "Python 3 (ipykernel)",
   "language": "python",
   "name": "python3"
  },
  "language_info": {
   "codemirror_mode": {
    "name": "ipython",
    "version": 3
   },
   "file_extension": ".py",
   "mimetype": "text/x-python",
   "name": "python",
   "nbconvert_exporter": "python",
   "pygments_lexer": "ipython3",
   "version": "3.9.7"
  }
 },
 "nbformat": 4,
 "nbformat_minor": 5
}
