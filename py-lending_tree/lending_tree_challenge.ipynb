{
 "cells": [
  {
   "cell_type": "code",
   "execution_count": 10,
   "id": "3bfa073c",
   "metadata": {},
   "outputs": [],
   "source": [
    "from bs4 import BeautifulSoup\n",
    "import requests\n",
    "import webbrowser as wb"
   ]
  },
  {
   "cell_type": "code",
   "execution_count": 32,
   "id": "7553037a",
   "metadata": {},
   "outputs": [
    {
     "name": "stdout",
     "output_type": "stream",
     "text": [
      "{'title': 'it was a very exciting experience', 'content': \"The process was very easy and help glad it worked out for .It's the best loan I've ever hadGive it a try\", 'author': 'Deanthony                                                                        from Bessemer,  AL', 'rating': '(5 of 5)stars', 'date': 'Reviewed in February 2022'}\n",
      "{'title': 'the best loan officer BROCK IRWIN', 'content': 'he pilled the best deal for me and my wife he is always there to help you make the best decision! respond back with a minutes or if he is occupied he  always let me know he will get back with you thank you Brock Irwin I feel 100% confident to recommend him with everyone and all my family and friendsagain thank you Irwin', 'author': 'Rafael Iglesias                                                                         from Fredericksburg,  VA', 'rating': '(5 of 5)stars', 'date': 'Reviewed in February 2022'}\n",
      "{'title': 'It meet my expectation', 'content': 'The process was not so bad. Daquon Fuqua seemed to be very presistent and dedicated in achieving all of my goals.', 'author': 'Rudolph                                                                        from Berlin,  MD', 'rating': '(4 of 5)stars', 'date': 'Reviewed in February 2022'}\n",
      "{'title': 'Great experience', 'content': 'Ryan was very attentive to providing timely customer service. He always returned emails and made sure we understood the process. Great communication skills. Helped us through the mortgage loan process. His background as a trainer was very helpful.', 'author': 'Mark                                                                        from Keller,  TX', 'rating': '(5 of 5)stars', 'date': 'Reviewed in February 2022'}\n",
      "{'title': 'Always there to help', 'content': 'Stephen made this process easy.  Always responded to any questions and/or fears I might have had. He. Was a pleasure to work with!', 'author': 'Cindy                                                                         from Corfu,  NY', 'rating': '(5 of 5)stars', 'date': 'Reviewed in February 2022'}\n",
      "{'title': 'Very Professional and helpful', 'content': 'The entire process was a breeze, the representative that handled everything was courteous and professional! He was very understanding.', 'author': 'Ali                                                                        from East Orange,  NJ', 'rating': '(5 of 5)stars', 'date': 'Reviewed in February 2022'}\n",
      "{'title': 'It was an excellent experience', 'content': 'Brent and his team made my refinancing so smooth.  Brent is honest, knowledgeable and very personable and is very hands on no matter where you are located.  I have never experienced such a professional and caring and honest company it was quite refreshing.  If you are looking to refinance or purchase a home this is your company. ', 'author': 'Vicki                                                                        from Knoxville,  TN', 'rating': '(5 of 5)stars', 'date': 'Reviewed in February 2022'}\n",
      "{'title': 'Phenomenal experience', 'content': 'Sean made the entire process absolutely painless, quick and efficient. Will absolutely work with him again in the future. The absolute best mortgage experience I have ever had. A true pleasure.', 'author': 'Doug                                                                        from Vernon,  NJ', 'rating': '(5 of 5)stars', 'date': 'Reviewed in January 2022'}\n",
      "{'title': 'Top Notch!', 'content': 'From start to finish I got service that felt personal to my situation.  My mortgage analyst, Bridget McCreight was so friendly but professional.  She was easy to communicate with and you felt that she honestly cared about you and your needs.  Whatever you told her that you wanted she worked to find a plan to fit and went further and suggested an option that might be even better.  Even when she was out on leave, she made sure that she answered your calls or e-mails and that someone just as caring as her was there to fill in and work with you.', 'author': 'Delores                                                                        from Brooklyn,  NY', 'rating': '(5 of 5)stars', 'date': 'Reviewed in January 2022'}\n",
      "{'title': 'Great Experience ', 'content': 'Brent Guthrey an Absolute Asset to Reliance First Capital!!! He went Above and Beyond,  anyone who wants to refinance,  Go , Run to the phone and call Brent !! ', 'author': 'John                                                                        from Westerly,  RI', 'rating': '(5 of 5)stars', 'date': 'Reviewed in January 2022'}\n",
      "{'title': 'Excellent Referral', 'content': 'I got referred to Miguel, and without a doubt, he and his team exceeded my expectations. In addition, he was readily available during the holidays and weekends to answer any questions and concerns. His upfront, honest, and very knowledgeable support helped me get through this process smoothly to complete, and the loan closed much earlier than expected. Thank you very much.', 'author': 'Monica                                                                        from Evanston,  IL', 'rating': '(5 of 5)stars', 'date': 'Reviewed in February 2022'}\n",
      "{'title': \"Wouldn't want to work with anyone else\", 'content': 'Always on top of what needed to be done before and after entering a contract. Miguel worked very hard to get me into a house as soon as he could.', 'author': 'Timothy                                                                        from Cypress,  TX', 'rating': '(5 of 5)stars', 'date': 'Reviewed in February 2022'}\n",
      "{'title': 'It was a good experience ', 'content': 'They made the entire experience painless! We had trouble with a different company so decided to give them a try.  Whitney and her team were amazing!', 'author': 'Rebecca                                                                        from Ackerly,  TX', 'rating': '(5 of 5)stars', 'date': 'Reviewed in January 2022'}\n",
      "{'title': 'Wonderful Experience ', 'content': 'I had a great experience with this company and I will highly recommend them to anyone that is looking to buy a new home. Thank you!', 'author': 'Daniella                                                                        from Richmond,  TX', 'rating': '(5 of 5)stars', 'date': 'Reviewed in January 2022'}\n",
      "{'title': 'Great experience', 'content': 'Fulvia Amaya made the experience stress free and eas**.Would highly recommend ..Fulvia worked with every step of the way..', 'author': 'Dennis                                                                        from Helotes,  TX', 'rating': '(5 of 5)stars', 'date': 'Reviewed in December 2021'}\n",
      "{'title': 'Easy, professional, and I will use them again!', 'content': \"Peter (virtually) held my hand through the process so I never felt out of the loop or concerned. He's a consummate professional and the process was painless with a great outcome! I plan to recommend him to all my friends and family! \", 'author': 'Nora                                                                        from Dallas,  TX', 'rating': '(5 of 5)stars', 'date': 'Reviewed in December 2021'}\n",
      "{'title': 'Awesome experience ', 'content': 'Peter and team from Triumph lending are fantastic…. Process is so smooth and easy, communication, timing, everything was just as they described….. 100% recommended if you are considering any of their services… hands down.', 'author': 'Felipe                                                                        from Cedar Park,  TX', 'rating': '(5 of 5)stars', 'date': 'Reviewed in December 2021'}\n",
      "{'title': 'Efficient and Thorough', 'content': \"Brandt King provided excellent service in helping put together my home refinance.  It was a little tricky, as it involved a third party co-signer who does not live in the house.  But it didn't throw Brandt for a loop, and he got the job done in timely fashion.  Thanks!\", 'author': 'Randall                                                                        from Round Rock,  TX', 'rating': '(5 of 5)stars', 'date': 'Reviewed in December 2021'}\n",
      "{'title': 'It was a great experience', 'content': 'The entire process from day one to closing went smooth.  Our Loan officer Brandt King did an outstanding job.  His knowledge, professionalism, advice, responsiveness and attention to detail made this experience a great one. So happy we chose them as our lender. ', 'author': 'Tommy                                                                        from Plano,  TX', 'rating': '(5 of 5)stars', 'date': 'Reviewed in December 2021'}\n",
      "{'title': 'made the process easy and stress-free', 'content': 'Miguel was very knowledgeable. answered all my questions with understandable explanations. made the whole process less stressful than what i expected. responsiveness was immediate.', 'author': 'Rebecca                                                                        from Dallas,  TX', 'rating': '(5 of 5)stars', 'date': 'Reviewed in December 2021'}\n"
     ]
    },
    {
     "name": "stdout",
     "output_type": "stream",
     "text": [
      "{'title': 'It was a good experience.', 'content': 'The entire experience was a delight. Omar Brito was professional, courteous and very helpful. I would recommend this company to any potential buyers.', 'author': 'Sherry                                                                        from New Rochelle,  NY', 'rating': '(5 of 5)stars', 'date': 'Reviewed in January 2022'}\n",
      "{'title': 'Thankful for their service', 'content': 'From start to finish, I received exceptional service.  The agent I worked with was helpful and kept me informed every step of the way.  I really appreciate the service and professionalism provided and will use Silver Fin for my next home purchase.  Shout out to Omar B. for his exceptional customer service,  professionalism, patience and guidance.  It was a pleasure working with him.  Thank you.', 'author': 'Virginia                                                                        from Massapequa,  NY', 'rating': '(5 of 5)stars', 'date': 'Reviewed in January 2022'}\n",
      "{'title': 'It was a good experience. ', 'content': 'It was a pleasure to work with Omar Brito at Silver Fin Capital? Omar was very professional, knowledgeable and responsive. He  explained the loan process clearly and was alway straight forward.  I would definitely work with him again in the future and highly recommend others to do so.', 'author': 'Miguel                                                                        from New Milford,  NJ', 'rating': '(5 of 5)stars', 'date': 'Reviewed in January 2022'}\n",
      "{'title': 'EXCELLENT SERVICE/EXCELLENT EXPERIENCE', 'content': 'The Silver Fin Capital Group is an excellent mortgage company to work with. It was our first time buying a home and Omar and his team were informative, honest, and available any time of the day/night to answer ALL of our questions! The experience could not have been easier and for that, we are forever grateful to Omar and his team! Thank you very much we could not have done this without Silver Fin Capital Group!!!', 'author': 'Armando                                                                        from Oak Ridge,  NJ', 'rating': '(5 of 5)stars', 'date': 'Reviewed in January 2022'}\n",
      "{'title': 'Working with Omar Brito ', 'content': 'From start to finish Omar made me and my wife feel like family.He guided us from start to finish and always assured us that he wanted what was best for us and made sure he follow through with that.I would recommend Omar 1000 times cause he always would check back with us trying to find ways to get a better deal for us and his attention to every little things was amazing.Omar your amazing thank you for everything you have done for me Ariel and my wife anniellys.Thank you we love our home', 'author': 'Ariel                                                                        from Belleville,  NJ', 'rating': '(5 of 5)stars', 'date': 'Reviewed in January 2022'}\n",
      "{'title': 'Exceptional Customer Service', 'content': 'As a first time homebuyer I had many questions and concerns. Omar went above and beyond to ensure that I was knowledgeable of all aspects of the process. Not an easy process but Silver Fin Capital in its entirety ensured that I closed on my home and knew where ever $ was spent. Omar is so patient and so knowledgeable. ', 'author': 'Alana                                                                        from Wesley Chapel,  FL', 'rating': '(5 of 5)stars', 'date': 'Reviewed in January 2022'}\n",
      "{'title': 'it was amazing experience', 'content': 'it was a very pleasant experience with Michael DeLeonardis, the process was so precise and quick , I never expected the loan process could be so fast, and he was able to get me low rate, he was available whenever I called him, I appreciate the job he did. I will recommand him to all my friends ', 'author': 'Youngsook                                                                        from Bayside,  NY', 'rating': '(5 of 5)stars', 'date': 'Reviewed in November 2021'}\n",
      "{'title': 'Another Happy Client', 'content': 'From start to finish Mike went above any beyond to ensure I understood the process, made the most informed decision, and had a great experience. His knowledge and professionalism are unmatched and his availability at a moments notice was greatly appreciated. I will be working with Mike in the future and will undoubtedly be recommending him to friends and family in the future. Thanks again Mike!', 'author': 'Warren                                                                        from Bellmore,  NY', 'rating': '(5 of 5)stars', 'date': 'Reviewed in April 2021'}\n",
      "{'title': 'Michael Perlman Did Not Disappoint', 'content': 'I was introduced to Michael Perlman by former clients of his who gave him top grades.  Michael guided me through the refinance process with expertise, patience and grace. His command of the marketplace was apparent and his customer service excellent.  I would and will recommend him without hesitation.', 'author': 'Carolyn                                                                        from New York,  NY', 'rating': '(5 of 5)stars', 'date': 'Reviewed in April 2021'}\n",
      "{'title': 'It was a great experience ', 'content': 'It was fantastic working with Michael Perlman at Silver Fin Capital Group on our VA refinance cash out mortgage.  We are so grateful that he was able to get us an amazingly low rate and was always available via phone or text to answer any questions. He explained each step so that we would feel comfortable throughout the entire process.  We believe he always had our best interest no matter how many questions we asked. We highly recommend working with Michael Perlman for your next mortgage or refinance. If we needed this service in the future we know where we would go!!M&R Florida', 'author': 'Marlene                                                                        from Boca Raton,  FL', 'rating': '(5 of 5)stars', 'date': 'Reviewed in April 2021'}\n",
      "{'title': 'Made things easy', 'content': 'Jacob was knowledgeable, experienced and friendly. He and his team were efficient and responsive to questions and helped us secure a competitive rate. He even worked with us after business hours according to our availability in order to finalize the loan in the most timely manner. We would choose him again for future needs.', 'author': 'Christine                                                                        from Sacramento,  CA', 'rating': '(5 of 5)stars', 'date': 'Reviewed in February 2022'}\n",
      "{'title': 'Exceeded my Expectations', 'content': 'We decided to do a refinance before the rates hike.  The entire process took 2 weeks.  As in, it was DONE in 2 weeks.  Exceeded my expectations.', 'author': 'Rachel                                                                        from Nashville,  TN', 'rating': '(5 of 5)stars', 'date': 'Reviewed in February 2022'}\n",
      "{'title': 'Great Experience with Jacob at LoanSnap', 'content': 'Had not done a refi online before. Jacob was very helpful and quick to respond to all my questions. He was great at helping me navigate the various online materials. Overall the process was quick and pleasant. Highly recommend Jacob.', 'author': 'Donald                                                                        from Athens,  GA', 'rating': '(5 of 5)stars', 'date': 'Reviewed in February 2022'}\n",
      "{'title': 'All smiles', 'content': 'We enjoyed working with Jared at LoanSnap. He was very quick to contact us and answer questions about the process.  Our mortgage refinance was easier than I thought it would be which is great! I would definitely use Jared again.', 'author': 'Stephanie                                                                        from San Antonio,  TX', 'rating': '(5 of 5)stars', 'date': 'Reviewed in February 2022'}\n",
      "{'title': 'Lowest closing cost and Excellent Customer Service', 'content': 'Great customer service. Rozie listens and understood our needs as a customer. Lowest closing costs for a refinance I have seen! Will be doing more business in the future!', 'author': 'Jacob                                                                        from Dallesport,  WA', 'rating': '(5 of 5)stars', 'date': 'Reviewed in February 2022'}\n",
      "{'title': 'Best mortgage refinance experience', 'content': 'Still amazed at what an easy, efficient and quick process my refinance was.  I stayed on top of my to do list and Rozie kept things moving on her side.  From my initial application to final approval was 8 business days, closed 2 days later! Funds were paid out 3 business days later,', 'author': 'Suzanne                                                                        from Hammonton,  NJ', 'rating': '(5 of 5)stars', 'date': 'Reviewed in February 2022'}\n",
      "{'title': 'Outstanding', 'content': 'Jared was awesome. He made the refinancing process simple and straightforward. He was transparent and honest and extremely timely. We closed on time with the anticipated terms. He has remained accessible and pleasant post-closing for any of my questions. I can’t recommend Jared enough to anyone looking to refinance their home.', 'author': 'Connor                                                                        from Nashville,  TN', 'rating': '(5 of 5)stars', 'date': 'Reviewed in February 2022'}\n",
      "{'title': 'Exemplary service!', 'content': 'Michelle is professional, efficient, and thorough. She clearly explained the process of our home refinance and answered all of our questions. This experience exceeded all previous refinancing (4 in 20 years) experiences. She is personable and is true to her word.', 'author': 'Carinne                                                                        from Santa Rosa,  CA', 'rating': '(5 of 5)stars', 'date': 'Reviewed in February 2022'}\n",
      "{'title': 'What a great experience!', 'content': 'The process was all online. It was intuitively easy, fast, and expertly done! I will recommend LoanSnap to my family, friends and colleagues if they ever need help with a refi, new mortgage, or a HELOC. ', 'author': 'Randy                                                                        from Duvall,  WA', 'rating': '(5 of 5)stars', 'date': 'Reviewed in February 2022'}\n",
      "{'title': 'Professional, Courteous, and Responsive!', 'content': 'My loan officer, Jared Miller, was always there to assist me whenever I needed help. He responded to my questions very quickly, efficiently, and expertly.', 'author': 'Jared                                                                        from Duvall,  WA', 'rating': '(5 of 5)stars', 'date': 'Reviewed in February 2022'}\n"
     ]
    },
    {
     "name": "stdout",
     "output_type": "stream",
     "text": [
      "{'title': 'Extremely helpful and knowledgeable', 'content': 'My experience with Shelly Myers was wonderful a and I appreciate all of the time and attention she provided in our mortgage process. Shelly worked with us every step of the way and it meant a lot. I would recommend Shelly to anyone looking for a mortgage. Shelly will make sure you know your options and she can help you determine what will work best for you.', 'author': 'Kevin                                                                        from Waseca,  MN', 'rating': '(5 of 5)stars', 'date': 'Reviewed in February 2022'}\n",
      "{'title': 'Excellent Communication', 'content': 'Dylan and his team made went above and beyond to get my loan closed in time. I highly recommend him and Planet.', 'author': 'Melissa                                                                        from Elyria,  OH', 'rating': '(5 of 5)stars', 'date': 'Reviewed in February 2022'}\n",
      "{'title': 'Great Experience', 'content': 'Planet Home made my loan to meet my needs. I told them when I started the loan process what I had and what I wanted. They went above and beyond to make sure it was done. They let you know every thing they were doing and if they needed anything from you. You want go wrong using Planet Home Lending.', 'author': 'Edward                                                                        from Riverdale,  GA', 'rating': '(5 of 5)stars', 'date': 'Reviewed in February 2022'}\n",
      "{'title': 'Buying a Home with Amanda was Great', 'content': \"From start to finish they were with me all the way. They stayed with me throughout the whole process. There were times when I felt like giving up but Amanda was true to her words. She would get it done and it didn't take long. If anyone is looking to buy a home or a Townhouse I recommend that you give her a call. They work with you to make sure that you get what you want..\", 'author': 'Edward                                                                        from Riverdale,  GA', 'rating': '(5 of 5)stars', 'date': 'Reviewed in February 2022'}\n",
      "{'title': 'It was a great experience', 'content': 'Me and my husband loved working with them. They helped us every step of the way. We highly recommend!!', 'author': 'Kelsey                                                                        from Milner,  GA', 'rating': '(5 of 5)stars', 'date': 'Reviewed in February 2022'}\n",
      "{'title': 'Shelly Myers is Amazing!', 'content': 'Shelly is very professional, efficient and knowledgeable. Shelly helped make our process as smooth as possible with her excellent communication. I highly recommend Shelly!!Thank you for everything :) !', 'author': 'Kiana                                                                        from West Palm Beach,  FL', 'rating': '(5 of 5)stars', 'date': 'Reviewed in January 2022'}\n",
      "{'title': 'Refreshing Experience', 'content': \"They made it easy and painless. They gave me a loan and made the entire process simple and easy to understand. They took the time to explain every detail and things we didn't know. We would highly recommend Planet Home Lending to our friends and family, or anyone looking for a good deal and an easy experience.\", 'author': 'Howard                                                                        from San Jose,  CA', 'rating': '(5 of 5)stars', 'date': 'Reviewed in January 2022'}\n",
      "{'title': 'Michael Rocks!', 'content': 'Michael really helped us through the entire process from beginning to end. We consider him our friend now and would routinely talk about our personal lives while we were working on the paperwork. Michael made this very complicate process seem very easy and guided us through each and every step, each and every page and took his time to explain things is a way that we could understand. I will be calling him back for future business and to check in on him from time to time.', 'author': 'Howard                                                                        from San Jose,  CA', 'rating': '(5 of 5)stars', 'date': 'Reviewed in January 2022'}\n",
      "{'title': 'Awesome Guidance for First Time Home Buyer!', 'content': 'Amanda Scogin is hands down the BEST loan officer.  Initially, I was keeping my options open with other lenders but Amanda won me over delivering excellence by going above and beyond expectations.  My first home buying experience involved a new construction when COVID issues were just beginning to impact the housing market with supply chain disruptions and lack of human resources.  Amanda stuck with me through the bitter end which lasted one year.  11 months into the build process it was evident that the builder was not able to complete the job and our hopes of becoming a homeowner were crushed.  Although, I thought becoming a homeowner was not in the cards for me Amanda jumped right in encouraging me to explore other options.  Following her advice, I was able to find another home and close within 30 days!  Amanda more than once demonstrated her ability to adapt and overcome obstacles to best serve her customer.  I have since referred her to other family members where she has delivered great customer service.  If you get assigned Amanda Scogin you have hit the jackpot!  Kudos to you:)', 'author': 'Kristie                                                                        from Savannah,  GA', 'rating': '(5 of 5)stars', 'date': 'Reviewed in January 2022'}\n",
      "{'title': 'More than a loan officer', 'content': 'Three years ago, my wife and I were in Midland, Texas looking to purchase a home, and clicked on \"see my Veteran\\'s benefits\" and Edward Warfield called me. The housing market was surrounded by a booming oil industry (at the time), so I told Ed, \"We are going to wait, please call me in 6 months\". He did. Meanwhile, I transferred jobs to Orlando, Florida and I asked to check back with me in 6 months. He called again, however we had new issues, Covid 19 and homeowners selling off their vacation rentals above appraisals. In the past year, we have been in contract pending stage 3 times in this crazy housing market.Finally, we closed on our home last Friday! We did it Ed!!! Edward demonstrated patience, persistence, professionalism, and most of all being personal.  His knowledge of VA benefits is incredible, knowing what documents the underwriter needs, communication with agents, appraisers, and title personnel have been well recognized.All in all, Ed is more than a loan officer... he is my friend!', 'author': 'Mike                                                                        from Clermont,  FL', 'rating': '(5 of 5)stars', 'date': 'Reviewed in January 2022'}\n",
      "{'title': 'Great Experience - Exceptional Service ', 'content': 'Dustin was the BEST loan advisor that we have ever worked with.  Even though we had never heard of Grander we proceeded based on a great rate offered.  The entire experience was very personal and hands on by Grander and Dustin in terms of walking us through each step, staying in constant contact and continuous follow-up on his part.  Right until closing and even after closing Dustin reached out to us to ensure we had everything we needed and all went smoothly.  If we decide to do another mortgage in the future, Grander and Dustin will be our first call. ', 'author': 'Kelli                                                                        from San Carlos,  CA', 'rating': '(5 of 5)stars', 'date': 'Reviewed in February 2022'}\n",
      "{'title': 'Exceptional in Every Way', 'content': 'We have used Grander Homes three times for re-financing…most recently in the Fall. Each time we had a superb experience! Our contact, Nate Wells provides excellent service! He is very responsive, thorough, detail oriented and nothing less than perfect! We will absolutely refer Nate and Grander Homes to all of our family / friends and continue to reach out with all of our mortgage needs. ', 'author': 'Shelly                                                                        from Littleton,  CO', 'rating': '(5 of 5)stars', 'date': 'Reviewed in January 2022'}\n",
      "{'title': 'grander home loans is the best!', 'content': \"This is my third mortgage/refinance arranged by Grander Home Loans.  Each time has been so efficient and Nate is the best.  Always keeps us informed every step of the way and it couldn't be any easier or convenient.  We recommend Nate and his team at Grander to anyone that wants a competitive rate and very low (if any) closing costs.\", 'author': 'debbi                                                                        from Waterford,  MI', 'rating': '(5 of 5)stars', 'date': 'Reviewed in November 2021'}\n",
      "{'title': 'Highly Recommended', 'content': 'Nate at Grander Home Loans was great to work with.  His communication was professional, prompt, clear and he made the process easy.  We’d highly recommend working with him.', 'author': 'Ian                                                                        from Portland,  OR', 'rating': '(5 of 5)stars', 'date': 'Reviewed in November 2021'}\n",
      "{'title': 'Refi success!', 'content': 'Nate (at Grander) was awesome with our refinance. He was very involved and made sure he was there to help every step of the way. We had an issue with our last mortgage and Nate made sure to oversee the process so that it wouldn’t happen this time around. ', 'author': 'Josh                                                                        from Costa Mesa,  CA', 'rating': '(5 of 5)stars', 'date': 'Reviewed in November 2021'}\n",
      "{'title': 'Excellence ', 'content': 'This is the second time I have had the privilege of working with Nate Wells. He is so kind and professional. I highly recommend his loan services.', 'author': 'Tammy                                                                        from Waikoloa,  HI', 'rating': '(5 of 5)stars', 'date': 'Reviewed in November 2021'}\n",
      "{'title': 'Nate and Grander Home Loans are the Best', 'content': 'When looking to refinance a home loan and get some equity cash we found Nate Wells and Grander Home Loans on Lending Tree. Nate is very knowledgable, kind, and well spoken. He discerned exactly what we were looking for and trying to accomplish, and thoroughly presented all our options, exploring pro’s and con’s allowing us to find the very best option without drama or confusion. Nate is completely professional, returns all calls and emails promptly, does exactly what he promises to do, and attends to detail without fail. He clearly acted in our best interest throughout the process. Nate and Grander Home Loans is the mortgage broker one always hopes for but seldom if ever finds. We recommend him in the highest manner and without reservation. Norm P', 'author': 'Norm                                                                        from Florence,  OR', 'rating': '(5 of 5)stars', 'date': 'Reviewed in October 2021'}\n",
      "{'title': 'Gre****.Again ', 'content': 'This not our first time using Nate. He always does a great job for us. I have sent friends and family members to him and they were just as pleased as we were. Best pricing, quick and easy!  ', 'author': 'David                                                                        from Hillsboro,  OR', 'rating': '(5 of 5)stars', 'date': 'Reviewed in October 2021'}\n",
      "{'title': 'Wonderful customer service and patience!', 'content': 'I am very pleased with Grander Home Loans.  Nate has been my contact for several years, and several refinances.  I put my full trust in Grander, and plan to use him for future refinances as well.  They are patient, kind, and go out of their way to give me the best home loan option, based on my current financial status. ', 'author': 'Niru                                                                        from San Jose,  CA', 'rating': '(5 of 5)stars', 'date': 'Reviewed in September 2021'}\n",
      "{'title': 'I would recommend Gander for sure!', 'content': \"This is 3rd or 4th time refinancing with Grander Home and my experiences have all been excellent painless and nothing but pro**************.Nate Wells gave me options before deciding on what was best for my family then the process was seamlessly easy and on time.  Thank you Nate for all you've done for me and my family.\", 'author': 'Rudy                                                                        from Northridge,  CA', 'rating': '(5 of 5)stars', 'date': 'Reviewed in September 2021'}\n"
     ]
    },
    {
     "name": "stdout",
     "output_type": "stream",
     "text": [
      "{'title': '', 'content': 'Jeff and grant really took care of our family and helped us find our home, and we are very thankful for the team and everything they did.', 'author': 'Gilbert C                                                                        from Bakersfield,  CA', 'rating': '(5 of 5)stars', 'date': 'Reviewed in November 2021'}\n",
      "{'title': '', 'content': 'Thank you, RightStart Mortgage, and especially thanks to Jeffrey Aguilera! Buying a first home is incredibly stressful, and for someone without a financial background securing a mortgage is the most confusing part. Jeffrey Aguilera was able to boil down all the rates and acronyms into logical information I needed to make the right decision. Jeff went out of his way to make sure I got the best available loan at the lowest possible rate. I recommend Jeff to anyone in the market for a mortgage.', 'author': 'Daniela H                                                                        from Bakersfield,  CA', 'rating': '(5 of 5)stars', 'date': 'Reviewed in November 2021'}\n",
      "{'title': '', 'content': 'Chris has always been on top of everything and continues to help us out whenever we need it. He explains everything with great detail and patience. We appreciate all his help and for what he continues to do for us. Always looking for ways he can continue to help, and on the ready whenever you need his assistance or have a question. Chris is a great person to work with and would 100% recommend to others!', 'author': 'Cesar M                                                                        from ,  ', 'rating': '(5 of 5)stars', 'date': 'Reviewed in October 2021'}\n",
      "{'title': '', 'content': 'I was able to just sit back and let it happen. They took care of everything else.', 'author': 'Sean B                                                                        from Litchfield Park,  AZ', 'rating': '(5 of 5)stars', 'date': 'Reviewed in September 2021'}\n",
      "{'title': '', 'content': 'Chris Bos and all Right Start staff also including the notary that assisted with my refinance did an excellent job.', 'author': 'Peter C                                                                        from Victorville,  CA', 'rating': '(5 of 5)stars', 'date': 'Reviewed in September 2021'}\n",
      "{'title': '', 'content': 'Very helpful and willing to assist without hesitation ', 'author': 'Maria C                                                                        from Firebaugh,  CA', 'rating': '(5 of 5)stars', 'date': 'Reviewed in August 2021'}\n",
      "{'title': '', 'content': 'Responds quickly, great communication. Got my Refi done quickly.', 'author': 'Dennis A                                                                        from El Mirage,  AZ', 'rating': '(4 of 5)stars', 'date': 'Reviewed in August 2021'}\n",
      "{'title': '', 'content': 'Everything. All of you guided and explain to me what I needed to know about the refinance process. Very trusted, knowledgeable and friendly staff. Thank you for everything.😃', 'author': 'Maura T                                                                        from Palm Desert,  CA', 'rating': '(5 of 5)stars', 'date': 'Reviewed in August 2021'}\n",
      "{'title': '', 'content': 'Very responsive & knowledgeable to the process, Especially on my relatively complicated profile. Very patient to my concerns and questions. The best loan officer I ever encountered for the last 10 years. Thanks to Chris help !!', 'author': 'Shoujen D                                                                        from Irvine,  CA', 'rating': '(5 of 5)stars', 'date': 'Reviewed in August 2021'}\n",
      "{'title': '', 'content': 'This is my second time working with Chris he is awesome, very communicative, easy to get a hold of, knowledgeable and doesn’t make you feel like all he cares about is a paycheck. He legitimately cares amd it shows! Thank you!', 'author': 'Jakeb K                                                                        from Gilbert,  AZ', 'rating': '(5 of 5)stars', 'date': 'Reviewed in August 2021'}\n",
      "{'title': 'First time buyer, the team instilled trust from day one.', 'content': \"Timothy and his team were nothing short of phenomenal to work with.  As someone who is self-employed, there are many more obstacles to landing a mortgage than someone on a traditional W2 — this is something we learned out of the gate.They responded on a Saturday and had us a full pre-approval written up and ready to go with our offer by Sunday.  His team was particularly helpful in working through the final documentation requests, etc. during the escrow and closing process with the underwriter.  Everything went off without a hitch.  They took the incredibly stressful experience and buying a home and made it manageable, answered every question we had thoroughly, and helped teach us a great deal about buying a home along the way.I would recommend Timothy and his team to anyone looking for a painless experience in buying their home, whether it is the first time or the tenth time.  Don't look anywhere else.\", 'author': 'Travis                                                                        from Los Angeles,  CA', 'rating': '(5 of 5)stars', 'date': 'Reviewed in December 2021'}\n",
      "{'title': \"1st Time Homebuyer's Experience\", 'content': \"This was my first time buying a home and it came at a time of incredible market competition. I had been pre-approved elsewhere but they wouldn't even give me my pre-approval in writing. The Potempa team was rather persistent with continuing contact with me which I found to be standard with mortgage lenders. That being said, in the end I was thankful for their desire to earn my business. The team was easy to work with and was very helpful. I had to have adjustments made to my pre-approval letter at least 4 times probably more, and I always received them timely, allowing me to make competitive offers. Every closed on time perfectly and the product offerings were positive as they allowed me to still secure my home despite not having 20% down. Overall, couldn't have asked for more from this lender. Thank you for everything!\", 'author': 'Frank                                                                        from Petaluma,  CA', 'rating': '(5 of 5)stars', 'date': 'Reviewed in December 2021'}\n",
      "{'title': 'Dream team', 'content': 'The potempa team was amazing to work with. We are first time buyers and they made us feel open to asking questions, and believe me, we had a lot! Professional and expert service. Highly recommend.', 'author': 'Hely                                                                        from Long Beach,  CA', 'rating': '(5 of 5)stars', 'date': 'Reviewed in November 2021'}\n",
      "{'title': 'Best experience for First Time Homebuyers', 'content': 'Both my husband and I are truly fortunate to have come across the Potempa Team! The entire process & experience was EVERYTHING we needed and we’re looking for. As first time home buyers, we had 21  questions that were ALWAYS answered above & beyond, day or night, text messages, emails or phone calls. Literally a hand to hold onto and walk us through the entire process step-by-step! Highly recommended and would absolutely work with again & again! Thank you Team Potempa, we are very happy to have had your help purchasing our 1st home!', 'author': 'Shane                                                                        from Merced,  CA', 'rating': '(5 of 5)stars', 'date': 'Reviewed in November 2021'}\n",
      "{'title': 'Trusted partner providing guidance and expertise in closing!', 'content': 'I want to thank the entire Fairway Team in helping me find the resources to secure a new home in one of the most competitive markets in the country!  Tim Potempa as a leader, and his loan officer Jim Stephens were continuously engaged, supportive and provided guidance during my search for over a year!  Not only did they provide pre-qualifying letters, they used this process as an incremental step to understand me so that they could advocate on my behalf, and simplify the closing process.  Through a few attempts of the bidding process, both Tim and Jim were very responsive 24x7 in helping customizing offers, and communicating directly to selling agents to secure trust and ensure a high level of confidence for the sellers to select my bid.  I feel very fortunate to have the Fairway team as a trusted partner!', 'author': 'Daniel                                                                        from Tahoe Vista,  CA', 'rating': '(5 of 5)stars', 'date': 'Reviewed in November 2021'}\n",
      "{'title': 'It was the best first experience I’ve had to buying a home', 'content': 'The entire Potempa team was great and very Pleasant to work with if I had to do it again I would definitely call them back', 'author': 'Troy                                                                        from Phoenix,  AZ', 'rating': '(5 of 5)stars', 'date': 'Reviewed in November 2021'}\n",
      "{'title': 'Highly recommended', 'content': 'This is the second time that Fairways helped us with our mortgage. Again, it was such a breeze working with them. Their online application tool was so easy to follow. Jeremy Fancher was very helpful and responds to inquiries quickly. We had a positive experience with them so far. Highly recommended! Thank you Fairways!', 'author': 'Karla                                                                        from Gilbert,  AZ', 'rating': '(5 of 5)stars', 'date': 'Reviewed in October 2021'}\n",
      "{'title': 'Really appreciate Cory and. Christine R and their whole team.', 'content': 'I am self employed so I was unsure if I could qualify for a million dollar house, but your team helped me succeed in buying my dream house!!', 'author': 'Terry                                                                        from San Clemente,  CA', 'rating': '(5 of 5)stars', 'date': 'Reviewed in October 2021'}\n",
      "{'title': 'First Mortgage Experience', 'content': 'It is been my The first time I got a mortgage. I applied online and just replied to the one which sounded the most professional one and I’m glad that I was right! Timothy Potempa and his team are very friendly and professional. I got my pre-qualification in just a couple of days and started to find my home. I got pre-approval on 9/7/2021 and closed escrow on 10/25/2021. I should thank Brandon Goodwin, Matt Jolly 🙏 they helped me to get this done smoothly!', 'author': 'Davood                                                                        from Palmdale,  CA', 'rating': '(5 of 5)stars', 'date': 'Reviewed in October 2021'}\n",
      "{'title': 'It was a good experience,', 'content': 'The Potempa team was with me every step of the way.  Ready to make subject matter experts available or just to answer general questions.  If there was a critical item due you received a polite reminder.  It was a pleasure to work with every member of the team.', 'author': 'Alan                                                                        from Buckeye,  AZ', 'rating': '(5 of 5)stars', 'date': 'Reviewed in October 2021'}\n"
     ]
    },
    {
     "name": "stdout",
     "output_type": "stream",
     "text": [
      "{'title': 'Awesome Experience', 'content': 'Stephanie is very professional. She has great communication and stays in constant contact during the entire process. I enjoyed her transparency throughout the process it was great!', 'author': 'Tj                                                                        from Spring Hill,  FL', 'rating': '(5 of 5)stars', 'date': 'Reviewed in January 2022'}\n",
      "{'title': 'It was a great experience ', 'content': 'The experience was pleasant quick and relatively easy. I chose One Main because they offered me loan at affordable rates.I liked the staff, I disliked the fact that I had problems signing the forms online. ', 'author': 'Wes                                                                        from Los Angeles,  CA', 'rating': '(4 of 5)stars', 'date': 'Reviewed in January 2022'}\n",
      "{'title': 'Sam Kay & Peyton McKay Was Great', 'content': 'They have done a good job, communication was top. Always helpful , always onetime reply emails. They knows what they do and subject knowledge is excellent. Thank you very much. NR from New Haven - Connecticut. ', 'author': 'Nilan                                                                        from East Haven,  CT', 'rating': '(5 of 5)stars', 'date': 'Reviewed in December 2021'}\n",
      "{'title': 'Stephanie made this a painless experience. Very professional', 'content': 'Stephanie was obviously passionate about her work. Everything went smoothly and efficiently. Stephanie clearly know her job and was impressive and trustworthy.', 'author': 'Ellen                                                                        from Nashville,  IN', 'rating': '(5 of 5)stars', 'date': 'Reviewed in December 2021'}\n",
      "{'title': 'Very remarkable', 'content': 'Everything about my experience with Stephanie was remarkable. The team was fast, efficient, honest, and every single person I dealt with was amazing. I can’t imagine working with another lender for future purchases!', 'author': 'Lucinda                                                                        from Concord,  NC', 'rating': '(5 of 5)stars', 'date': 'Reviewed in November 2021'}\n",
      "{'title': 'Very Competitive and Transparent', 'content': 'The process was fast and easy. They remained competitive till the end and earned my business. I do appreciate that they keep everything in-house and do not sell my loan to third parties. ', 'author': 'Josef                                                                        from Brandon,  FL', 'rating': '(5 of 5)stars', 'date': 'Reviewed in November 2021'}\n",
      "{'title': 'A pleasure to collaborate with', 'content': 'Stephanie was very attentive from start to finish. Even with stiff competition and time-sensitive demands, she was there with me from start to finish. She provided guidance throughout the process and remained in contact to ensure I understood the process. She ensured the experience was smooth and made me comfortable with my decision to side with the loan provider she works for. If I had to refinance again, she would be my first choice.', 'author': 'Josef                                                                        from Brandon,  FL', 'rating': '(5 of 5)stars', 'date': 'Reviewed in November 2021'}\n",
      "{'title': 'Great experience', 'content': \"Stephanie was who I got for helping with my loan.  I am very happy I did.  We had some ups and downs going through the process but she stuck with me and I now have my home refinanced and cashed out a little to fix up the exterior of my home.  I'll recommend her to anyone who asks me if I have someone.\", 'author': 'Nathan                                                                        from Minneapolis,  MN', 'rating': '(5 of 5)stars', 'date': 'Reviewed in November 2021'}\n",
      "{'title': 'Great experience', 'content': 'Gave me a lot of good advice and recommendations. It was a seamless process.  Communication was great!', 'author': 'Becky                                                                        from Louisville,  KY', 'rating': '(5 of 5)stars', 'date': 'Reviewed in November 2021'}\n",
      "{'title': 'Great experience to save money', 'content': 'Stephanie made the whole process very easy to understand and walked us through it step by step and closed on the date that was told to us without any issues.', 'author': 'RUSSELL                                                                        from Hainesport,  NJ', 'rating': '(5 of 5)stars', 'date': 'Reviewed in October 2021'}\n",
      "{'title': 'It, was a great experience when in need!', 'content': 'This lender was very concerned, when i was in need of help, for a loan and where other lenders, did not help this lender did help me, thank you.', 'author': 'Richard                                                                        from Wiggins,  MS', 'rating': '(5 of 5)stars', 'date': 'Reviewed in February 2022'}\n",
      "{'title': 'Professional and fast', 'content': 'The whole process was fast and simple. I would trust no one else. Easy to follow instructions. Fast approval process. Funds deposited Fast. ', 'author': 'Robert                                                                        from Jackson,  MO', 'rating': '(5 of 5)stars', 'date': 'Reviewed in February 2022'}\n",
      "{'title': 'Great experience', 'content': 'Very quick application and approval.  I am very happy to have found this company and looking forward to a long relationship with them!', 'author': 'Debra                                                                        from Tecumseh,  OK', 'rating': '(5 of 5)stars', 'date': 'Reviewed in February 2022'}\n",
      "{'title': 'User friendly and helpful', 'content': 'Upstart took a very nerve racking experience and made it very simple and quick. This was very appreciated for someone like myself that is constantly busy and on the go.', 'author': 'Rebecca                                                                        from Reynoldsburg,  OH', 'rating': '(5 of 5)stars', 'date': 'Reviewed in February 2022'}\n",
      "{'title': 'It was worth the wait', 'content': 'It took awhile for me to get approved but after they carefully reviewed my credentials all fell through with a green light. I was approved, how sweet it was.', 'author': 'Allie                                                                        from Harvey,  IL', 'rating': '(5 of 5)stars', 'date': 'Reviewed in February 2022'}\n",
      "{'title': 'Excellent ', 'content': 'Easy way to complete the files faster with the answers I definitely recommend it. The agent help me by the pond was good too ', 'author': 'Johanna                                                                        from Newark,  NJ', 'rating': '(5 of 5)stars', 'date': 'Reviewed in February 2022'}\n",
      "{'title': 'Easy and fast approval!', 'content': 'Very fast and simple process, reasonable rates, and easy options! Would definitely recommend as a solid lender!', 'author': 'Jacob                                                                        from Springdale,  AR', 'rating': '(5 of 5)stars', 'date': 'Reviewed in February 2022'}\n",
      "{'title': 'Consolidation!', 'content': 'Easy stress free way to get rid of a few bills! I did not feel rushed to make a decision and am happy I was approved. ', 'author': 'Penny                                                                        from Watertown,  MA', 'rating': '(5 of 5)stars', 'date': 'Reviewed in February 2022'}\n",
      "{'title': 'Super fast super simple ', 'content': 'I found out about Upstart from the commercials and thought I would give it a try. I had a illness for sometime and fell behind in paying down my credit cards and upstart helped me get back on track. Thank you upstart.', 'author': 'Ed                                                                        from Brick,  NJ', 'rating': '(5 of 5)stars', 'date': 'Reviewed in February 2022'}\n",
      "{'title': 'Great experience', 'content': \"Very helpful and I appreciate the help so much! I HONESTLY COULDN'T HAVE tried another place that was honestly legit\", 'author': 'Christine                                                                        from Goodlettsville,  TN', 'rating': '(5 of 5)stars', 'date': 'Reviewed in February 2022'}\n",
      "<class 'list'>\n"
     ]
    }
   ],
   "source": [
    "headers = {'User-Agent': 'Mozilla/5.0 (Macintosh; Intel Mac OS X 10_15_7) AppleWebKit/537.36 (KHTML, like Gecko) Chrome/98.0.4758.80 Safari/537.36'}\n",
    "\n",
    "reviewlist = []\n",
    "banklist = []\n",
    "\n",
    "def getReviews():\n",
    "    lt_url = 'https://www.lendingtree.com/reviews?sortby=MF9kZXNj&pid=1'\n",
    "    r = requests.get(lt_url, headers=headers)\n",
    "    soup = BeautifulSoup(r.text, 'html.parser')\n",
    "    reviews = soup.find_all('div', class_='reviewContent')\n",
    "\n",
    "    for i in reviews:\n",
    "        review = 'https://www.lendingtree.com' + i.find('a', class_='logo')['href']\n",
    "        get = wb.open(review)\n",
    "        r2 = requests.get(review, headers=headers)\n",
    "        soup = BeautifulSoup(r2.text, 'html.parser')\n",
    "        \n",
    "        banks = soup.find_all('div', class_='mainReviews')\n",
    "        for j in banks:\n",
    "            lendreviews = {\n",
    "                'title': j.find('p', class_='reviewTitle').text,\n",
    "                'content': j.find('p', class_='reviewText').text,\n",
    "                'author': j.find('p', class_='consumerName').text,\n",
    "                'rating': j.find('div', class_='numRec').text,\n",
    "                'date': j.find('p', class_='consumerReviewDate').text,\n",
    "                \n",
    "            }\n",
    "            print(lendreviews)\n",
    "        \n",
    "        reviewlist.append(review)\n",
    "    return reviewlist\n",
    "\n",
    "getReviews()\n",
    "# print(reviewlist)\n",
    "print(type(reviewlist))\n",
    "    \n",
    "\n"
   ]
  },
  {
   "cell_type": "code",
   "execution_count": 8,
   "id": "4ba9916f",
   "metadata": {},
   "outputs": [],
   "source": [
    "def getnextpage(soup):\n",
    "    nextpage = soup.find('ul', class_ = 'pageStatus');\n",
    "    if not nextpage.find('li', class_ = 'active'):\n",
    "        url = soup.find('li', class_ = 'active').find('a')\n",
    "        print(url)\n",
    "        return url\n",
    "    else:\n",
    "        return"
   ]
  },
  {
   "cell_type": "code",
   "execution_count": 291,
   "id": "fcddc80c",
   "metadata": {},
   "outputs": [],
   "source": [
    "def find_pages():\n",
    "   \n",
    "    for page in lt_pages:\n",
    "        this_page = int(page.text)\n",
    "        next_page = this_page +1;\n",
    "        print(next_page)\n",
    "        print(this_page)\n",
    "\n",
    "        break;"
   ]
  },
  {
   "cell_type": "code",
   "execution_count": 292,
   "id": "6a1eb3ac",
   "metadata": {},
   "outputs": [
    {
     "ename": "NameError",
     "evalue": "name 'lt_pages' is not defined",
     "output_type": "error",
     "traceback": [
      "\u001b[0;31m---------------------------------------------------------------------------\u001b[0m",
      "\u001b[0;31mNameError\u001b[0m                                 Traceback (most recent call last)",
      "Input \u001b[0;32mIn [292]\u001b[0m, in \u001b[0;36m<module>\u001b[0;34m\u001b[0m\n\u001b[0;32m----> 1\u001b[0m \u001b[43mfind_pages\u001b[49m\u001b[43m(\u001b[49m\u001b[43m)\u001b[49m\n",
      "Input \u001b[0;32mIn [291]\u001b[0m, in \u001b[0;36mfind_pages\u001b[0;34m()\u001b[0m\n\u001b[1;32m      1\u001b[0m \u001b[38;5;28;01mdef\u001b[39;00m \u001b[38;5;21mfind_pages\u001b[39m():\n\u001b[0;32m----> 3\u001b[0m     \u001b[38;5;28;01mfor\u001b[39;00m page \u001b[38;5;129;01min\u001b[39;00m \u001b[43mlt_pages\u001b[49m:\n\u001b[1;32m      4\u001b[0m         this_page \u001b[38;5;241m=\u001b[39m \u001b[38;5;28mint\u001b[39m(page\u001b[38;5;241m.\u001b[39mtext)\n\u001b[1;32m      5\u001b[0m         next_page \u001b[38;5;241m=\u001b[39m this_page \u001b[38;5;241m+\u001b[39m\u001b[38;5;241m1\u001b[39m;\n",
      "\u001b[0;31mNameError\u001b[0m: name 'lt_pages' is not defined"
     ]
    }
   ],
   "source": [
    "find_pages()"
   ]
  },
  {
   "cell_type": "code",
   "execution_count": 290,
   "id": "5cd253b1",
   "metadata": {},
   "outputs": [
    {
     "ename": "NameError",
     "evalue": "name 'lt_reviews' is not defined",
     "output_type": "error",
     "traceback": [
      "\u001b[0;31m---------------------------------------------------------------------------\u001b[0m",
      "\u001b[0;31mNameError\u001b[0m                                 Traceback (most recent call last)",
      "Input \u001b[0;32mIn [290]\u001b[0m, in \u001b[0;36m<module>\u001b[0;34m\u001b[0m\n\u001b[0;32m----> 1\u001b[0m \u001b[38;5;28;01mfor\u001b[39;00m review \u001b[38;5;129;01min\u001b[39;00m \u001b[43mlt_reviews\u001b[49m:\n\u001b[1;32m      2\u001b[0m     \u001b[38;5;28mprint\u001b[39m(review\u001b[38;5;241m.\u001b[39mfind(\u001b[38;5;124m'\u001b[39m\u001b[38;5;124ma\u001b[39m\u001b[38;5;124m'\u001b[39m)[\u001b[38;5;124m'\u001b[39m\u001b[38;5;124mhref\u001b[39m\u001b[38;5;124m'\u001b[39m])\n\u001b[1;32m      3\u001b[0m     requests\u001b[38;5;241m.\u001b[39mget(review)\n",
      "\u001b[0;31mNameError\u001b[0m: name 'lt_reviews' is not defined"
     ]
    }
   ],
   "source": [
    "\n",
    "    \n",
    "    for review in lt_reviews:\n",
    "        print(review.find('a')['href'])\n",
    "        requests.get(review)"
   ]
  },
  {
   "cell_type": "code",
   "execution_count": null,
   "id": "a200ca7e",
   "metadata": {},
   "outputs": [],
   "source": []
  },
  {
   "cell_type": "code",
   "execution_count": null,
   "id": "82a8440b",
   "metadata": {},
   "outputs": [],
   "source": []
  },
  {
   "cell_type": "code",
   "execution_count": null,
   "id": "3f3acd6c",
   "metadata": {},
   "outputs": [],
   "source": []
  }
 ],
 "metadata": {
  "kernelspec": {
   "display_name": "Python 3 (ipykernel)",
   "language": "python",
   "name": "python3"
  },
  "language_info": {
   "codemirror_mode": {
    "name": "ipython",
    "version": 3
   },
   "file_extension": ".py",
   "mimetype": "text/x-python",
   "name": "python",
   "nbconvert_exporter": "python",
   "pygments_lexer": "ipython3",
   "version": "3.9.7"
  }
 },
 "nbformat": 4,
 "nbformat_minor": 5
}
