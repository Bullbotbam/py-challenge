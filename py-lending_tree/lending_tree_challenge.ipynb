{
 "cells": [
  {
   "cell_type": "code",
   "execution_count": 4,
   "id": "3bfa073c",
   "metadata": {},
   "outputs": [],
   "source": [
    "from bs4 import BeautifulSoup\n",
    "import requests\n",
    "import webbrowser as wb\n",
    "import pandas as pd\n",
    "import pyautogui, time"
   ]
  },
  {
   "cell_type": "code",
   "execution_count": 6,
   "id": "7553037a",
   "metadata": {},
   "outputs": [
    {
     "name": "stdout",
     "output_type": "stream",
     "text": [
      "all closed\n",
      "all closed\n",
      "all closed\n",
      "all closed\n",
      "all closed\n",
      "all closed\n",
      "all closed\n",
      "all closed\n",
      "all closed\n",
      "all closed\n",
      "donzo\n"
     ]
    }
   ],
   "source": [
    "headers = {'User-Agent': 'Mozilla/5.0 (Macintosh; Intel Mac OS X 10_15_7) AppleWebKit/537.36 (KHTML, like Gecko) Chrome/98.0.4758.80 Safari/537.36'}\n",
    "\n",
    "reviewlist = []\n",
    "banklist = []\n",
    "\n",
    "def getReviews(page):\n",
    "    lt_url = f'https://www.lendingtree.com/reviews?sortby=MF9kZXNj&pid={page}'\n",
    "    r = requests.get(lt_url, headers=headers)\n",
    "    soup = BeautifulSoup(r.text, 'html.parser')\n",
    "    reviews = soup.find_all('div', class_='reviewContent')\n",
    "# find the element containing links to each review, \n",
    "\n",
    "    for i in reviews:\n",
    "        review = 'https://www.lendingtree.com' + i.find('a', class_='logo')['href']\n",
    "        get = wb.open(review)\n",
    "        time.sleep(3)\n",
    "        pyautogui.hotkey('command', 'w')\n",
    "        print('all closed')\n",
    "        \n",
    "        r2 = requests.get(review, headers=headers)\n",
    "        soup = BeautifulSoup(r2.text, 'html.parser')\n",
    "        \n",
    "        banks = soup.find_all('div', class_='mainReviews')\n",
    "        \n",
    "# loop through each link; open the link search for tags containing desired information.\n",
    "        for j in banks:\n",
    "            lendreviews = {\n",
    "                'title': j.find('p', class_='reviewTitle').text,\n",
    "                'content': j.find('p', class_='reviewText').text,\n",
    "                'author': j.find('p', class_='consumerName').text,\n",
    "                'rating': j.find('div', class_='numRec').text,\n",
    "                'type': j.find('div', class_='loanType').text,\n",
    "                'date': j.find('p', class_='consumerReviewDate').text,\n",
    "                \n",
    "            }\n",
    "#             print(lendreviews)\n",
    "       \n",
    "        banklist.append(lendreviews)\n",
    "        reviewlist.append(review)\n",
    "#     return reviewlist\n",
    "# iterate over all of the possible pages\n",
    "for page in range(1, 2):\n",
    "    getReviews(page)\n",
    "    \n",
    "    \n",
    "df = pd.DataFrame(reviewlist)\n",
    "df.to_excel('reviewlist.xlsx')\n",
    "print('donzo')\n",
    "    \n",
    "    \n",
    "# print(reviewlist)\n",
    "# print(type(reviewlist))\n",
    "    \n",
    "\n"
   ]
  },
  {
   "cell_type": "code",
   "execution_count": null,
   "id": "6d712294",
   "metadata": {},
   "outputs": [],
   "source": []
  }
 ],
 "metadata": {
  "kernelspec": {
   "display_name": "Python 3 (ipykernel)",
   "language": "python",
   "name": "python3"
  },
  "language_info": {
   "codemirror_mode": {
    "name": "ipython",
    "version": 3
   },
   "file_extension": ".py",
   "mimetype": "text/x-python",
   "name": "python",
   "nbconvert_exporter": "python",
   "pygments_lexer": "ipython3",
   "version": "3.9.7"
  }
 },
 "nbformat": 4,
 "nbformat_minor": 5
}
