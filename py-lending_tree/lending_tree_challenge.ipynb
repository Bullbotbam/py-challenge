{
 "cells": [
  {
   "cell_type": "code",
   "execution_count": 20,
   "id": "3bfa073c",
   "metadata": {},
   "outputs": [],
   "source": [
    "from bs4 import BeautifulSoup\n",
    "import requests"
   ]
  },
  {
   "cell_type": "code",
   "execution_count": 63,
   "id": "09198b0e",
   "metadata": {},
   "outputs": [],
   "source": [
    "url = 'https://www.lendingtree.com/reviews'"
   ]
  },
  {
   "cell_type": "code",
   "execution_count": 64,
   "id": "c66619c9",
   "metadata": {},
   "outputs": [
    {
     "name": "stdout",
     "output_type": "stream",
     "text": [
      "https://www.lendingtree.com/reviews\n"
     ]
    }
   ],
   "source": [
    "print(url)"
   ]
  },
  {
   "cell_type": "code",
   "execution_count": 70,
   "id": "0169d071",
   "metadata": {},
   "outputs": [],
   "source": [
    "response = requests.get(url)"
   ]
  },
  {
   "cell_type": "code",
   "execution_count": 71,
   "id": "3da1c1e5",
   "metadata": {},
   "outputs": [],
   "source": [
    "html = response.text"
   ]
  },
  {
   "cell_type": "code",
   "execution_count": 72,
   "id": "bbbd4048",
   "metadata": {},
   "outputs": [],
   "source": [
    "soup = BeautifulSoup(html, 'html.parser')"
   ]
  },
  {
   "cell_type": "code",
   "execution_count": 101,
   "id": "9d6e5c9b",
   "metadata": {},
   "outputs": [],
   "source": [
    "lt_reviews = soup.find_all('div', {'class': \"brandName\"})"
   ]
  },
  {
   "cell_type": "code",
   "execution_count": 110,
   "id": "1f82c303",
   "metadata": {},
   "outputs": [
    {
     "name": "stdout",
     "output_type": "stream",
     "text": [
      "<a href=\"/reviews/mortgage/reliance-first-capital-llc/45102840\">\n",
      "<h3 class=\"title\">Reliance First Capital, LLC</h3>\n",
      "</a>\n",
      "<a href=\"/reviews/mortgage/triumph-lending/44068646\">\n",
      "<h3 class=\"title\">Triumph Lending</h3>\n",
      "</a>\n",
      "<a href=\"/reviews/mortgage/silver-fin-capital-group/37405089\">\n",
      "<h3 class=\"title\">Silver Fin Capital Group</h3>\n",
      "</a>\n",
      "<a href=\"/reviews/mortgage/loansnap/39777117\">\n",
      "<h3 class=\"title\">LoanSnap</h3>\n",
      "</a>\n",
      "<a href=\"/reviews/mortgage/planet-home-lending/57728064\">\n",
      "<h3 class=\"title\">Planet Home Lending</h3>\n",
      "</a>\n",
      "<a href=\"/reviews/mortgage/grander-home-loans-inc/58426567\">\n",
      "<h3 class=\"title\">Grander Home Loans, Inc</h3>\n",
      "</a>\n",
      "<a href=\"/reviews/mortgage/right-start-mortgage-inc/69298672\">\n",
      "<h3 class=\"title\">Right Start Mortgage Inc</h3>\n",
      "</a>\n",
      "<a href=\"/reviews/mortgage/fairway-independent-mortgage-corporation/16236663\">\n",
      "<h3 class=\"title\">Fairway Independent Mortgage Corporation</h3>\n",
      "</a>\n",
      "<a href=\"/reviews/mortgage/new-american-funding/45679155\">\n",
      "<h3 class=\"title\">New American Funding</h3>\n",
      "</a>\n",
      "<a href=\"/reviews/personal/upstart-network-inc/54350158\">\n",
      "<h3 class=\"title\">Upstart Network, Inc</h3>\n",
      "</a>\n"
     ]
    }
   ],
   "source": [
    "for review in lt_reviews:\n",
    "    print(review.a)"
   ]
  },
  {
   "cell_type": "code",
   "execution_count": 202,
   "id": "8a304fbe",
   "metadata": {},
   "outputs": [],
   "source": [
    "lt_pages = soup.find_all('span', {'class': \"active\"})"
   ]
  },
  {
   "cell_type": "code",
   "execution_count": 204,
   "id": "52dbaf40",
   "metadata": {},
   "outputs": [
    {
     "ename": "AttributeError",
     "evalue": "ResultSet object has no attribute 'find'. You're probably treating a list of elements like a single element. Did you call find_all() when you meant to call find()?",
     "output_type": "error",
     "traceback": [
      "\u001b[0;31m---------------------------------------------------------------------------\u001b[0m",
      "\u001b[0;31mAttributeError\u001b[0m                            Traceback (most recent call last)",
      "Input \u001b[0;32mIn [204]\u001b[0m, in \u001b[0;36m<module>\u001b[0;34m\u001b[0m\n\u001b[0;32m----> 1\u001b[0m \u001b[43mlt_pages\u001b[49m\u001b[38;5;241;43m.\u001b[39;49m\u001b[43mfind\u001b[49m(\u001b[38;5;124m'\u001b[39m\u001b[38;5;124mspan\u001b[39m\u001b[38;5;124m'\u001b[39m)\n",
      "File \u001b[0;32m~/Desktop/test/py-challenge/py-lending_tree/lib/python3.9/site-packages/bs4/element.py:2253\u001b[0m, in \u001b[0;36mResultSet.__getattr__\u001b[0;34m(self, key)\u001b[0m\n\u001b[1;32m   2251\u001b[0m \u001b[38;5;28;01mdef\u001b[39;00m \u001b[38;5;21m__getattr__\u001b[39m(\u001b[38;5;28mself\u001b[39m, key):\n\u001b[1;32m   2252\u001b[0m     \u001b[38;5;124;03m\"\"\"Raise a helpful exception to explain a common code fix.\"\"\"\u001b[39;00m\n\u001b[0;32m-> 2253\u001b[0m     \u001b[38;5;28;01mraise\u001b[39;00m \u001b[38;5;167;01mAttributeError\u001b[39;00m(\n\u001b[1;32m   2254\u001b[0m         \u001b[38;5;124m\"\u001b[39m\u001b[38;5;124mResultSet object has no attribute \u001b[39m\u001b[38;5;124m'\u001b[39m\u001b[38;5;132;01m%s\u001b[39;00m\u001b[38;5;124m'\u001b[39m\u001b[38;5;124m. You\u001b[39m\u001b[38;5;124m'\u001b[39m\u001b[38;5;124mre probably treating a list of elements like a single element. Did you call find_all() when you meant to call find()?\u001b[39m\u001b[38;5;124m\"\u001b[39m \u001b[38;5;241m%\u001b[39m key\n\u001b[1;32m   2255\u001b[0m     )\n",
      "\u001b[0;31mAttributeError\u001b[0m: ResultSet object has no attribute 'find'. You're probably treating a list of elements like a single element. Did you call find_all() when you meant to call find()?"
     ]
    }
   ],
   "source": [
    "lt_pages.find('span')"
   ]
  },
  {
   "cell_type": "code",
   "execution_count": 194,
   "id": "562b5644",
   "metadata": {},
   "outputs": [
    {
     "name": "stdout",
     "output_type": "stream",
     "text": [
      "None\n"
     ]
    }
   ],
   "source": [
    "soup.find('span', {'aria-label'}))print("
   ]
  },
  {
   "cell_type": "code",
   "execution_count": 193,
   "id": "fcddc80c",
   "metadata": {},
   "outputs": [],
   "source": [
    "def find_pages():\n",
    "   \n",
    "    for page in lt_pages:\n",
    "#         next_page = int(page)\n",
    "        print(type(page))\n",
    "#         print(page.text)\n",
    "        break;"
   ]
  },
  {
   "cell_type": "code",
   "execution_count": 181,
   "id": "6a1eb3ac",
   "metadata": {},
   "outputs": [
    {
     "name": "stdout",
     "output_type": "stream",
     "text": [
      "<class 'bs4.element.Tag'>\n"
     ]
    }
   ],
   "source": [
    "find_pages()"
   ]
  },
  {
   "cell_type": "code",
   "execution_count": null,
   "id": "5cd253b1",
   "metadata": {},
   "outputs": [],
   "source": []
  }
 ],
 "metadata": {
  "kernelspec": {
   "display_name": "Python 3 (ipykernel)",
   "language": "python",
   "name": "python3"
  },
  "language_info": {
   "codemirror_mode": {
    "name": "ipython",
    "version": 3
   },
   "file_extension": ".py",
   "mimetype": "text/x-python",
   "name": "python",
   "nbconvert_exporter": "python",
   "pygments_lexer": "ipython3",
   "version": "3.9.7"
  }
 },
 "nbformat": 4,
 "nbformat_minor": 5
}
