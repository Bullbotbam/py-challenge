{
 "cells": [
  {
   "cell_type": "code",
   "execution_count": 270,
   "id": "3bfa073c",
   "metadata": {},
   "outputs": [],
   "source": [
    "from bs4 import BeautifulSoup\n",
    "import requests\n",
    "import webbrowser as wb"
   ]
  },
  {
   "cell_type": "code",
   "execution_count": 271,
   "id": "7553037a",
   "metadata": {},
   "outputs": [],
   "source": [
    "lt_url = 'https://www.lendingtree.com/reviews?sortby=MF9kZXNj&pid=1'"
   ]
  },
  {
   "cell_type": "code",
   "execution_count": 280,
   "id": "0169d071",
   "metadata": {},
   "outputs": [],
   "source": [
    "def check_lent(lt_url):\n",
    "    lt = requests.get(lt_url)\n",
    "    soup = BeautifulSoup(lt.content, 'html.parser')\n",
    "    lt_reviews = soup.find_all('a', class_ = \"revLink\")\n",
    "    for review in lt_reviews:\n",
    "        url = 'https://www.lendingtree.com'\n",
    "        review_urls = []\n",
    "        get_sites = url + review['href']\n",
    "        review_urls.append(get_sites)\n",
    "        return review_urls\n",
    "        \n",
    "      \n",
    "        \n",
    "        \n",
    "#         get_data = wb.open(data)\n",
    "#         soup = BeautifulSoup(get_data.content, 'html.parser')\n",
    "#         links = soup.find_all(class_ = ['reviewTitle', 'reviewText', ])\n",
    "    \n",
    "#             review_title = link.find_all('p', class_ = 'reviewTitle')\n",
    "#             review_content = link.find_all('p', class_ = 'reviewText')\n",
    "#             review_author = link.find_all('p', class_ = 'consumerName')\n",
    "#             review_star_rating = link.find_all('p', class_ = 'numRec')\n",
    "#             review_date = link.find_all('p', class_ = 'consumerReviewDate')        \n",
    "\n",
    "\n",
    "#     print(review)\n",
    "    print(type(review_urls))\n",
    "    print(review_urls)\n",
    "    print(get_sites)\n",
    "    return soup"
   ]
  },
  {
   "cell_type": "code",
   "execution_count": 293,
   "id": "4ba9916f",
   "metadata": {},
   "outputs": [],
   "source": [
    "def getnextpage(soup):\n",
    "    nextpage = soup.find('ul', class_ = 'pageStatus');\n",
    "    if not nextpage.find('li', class_ = 'active'):\n",
    "        url = soup.find('li', class_ = 'active').find('a')\n",
    "        print(url)\n",
    "        return url\n",
    "    else:\n",
    "        return"
   ]
  },
  {
   "cell_type": "code",
   "execution_count": 294,
   "id": "820db2ad",
   "metadata": {},
   "outputs": [
    {
     "ename": "AttributeError",
     "evalue": "'list' object has no attribute 'find'",
     "output_type": "error",
     "traceback": [
      "\u001b[0;31m---------------------------------------------------------------------------\u001b[0m",
      "\u001b[0;31mAttributeError\u001b[0m                            Traceback (most recent call last)",
      "Input \u001b[0;32mIn [294]\u001b[0m, in \u001b[0;36m<module>\u001b[0;34m\u001b[0m\n\u001b[1;32m      1\u001b[0m lend \u001b[38;5;241m=\u001b[39m check_lent(lt_url)\n\u001b[0;32m----> 2\u001b[0m \u001b[43mgetnextpage\u001b[49m\u001b[43m(\u001b[49m\u001b[43mlend\u001b[49m\u001b[43m)\u001b[49m\u001b[38;5;241m.\u001b[39mprettify()\n",
      "Input \u001b[0;32mIn [293]\u001b[0m, in \u001b[0;36mgetnextpage\u001b[0;34m(soup)\u001b[0m\n\u001b[1;32m      1\u001b[0m \u001b[38;5;28;01mdef\u001b[39;00m \u001b[38;5;21mgetnextpage\u001b[39m(soup):\n\u001b[0;32m----> 2\u001b[0m     nextpage \u001b[38;5;241m=\u001b[39m \u001b[43msoup\u001b[49m\u001b[38;5;241;43m.\u001b[39;49m\u001b[43mfind\u001b[49m(\u001b[38;5;124m'\u001b[39m\u001b[38;5;124mul\u001b[39m\u001b[38;5;124m'\u001b[39m, class_ \u001b[38;5;241m=\u001b[39m \u001b[38;5;124m'\u001b[39m\u001b[38;5;124mpageStatus\u001b[39m\u001b[38;5;124m'\u001b[39m);\n\u001b[1;32m      3\u001b[0m     \u001b[38;5;28;01mif\u001b[39;00m \u001b[38;5;129;01mnot\u001b[39;00m nextpage\u001b[38;5;241m.\u001b[39mfind(\u001b[38;5;124m'\u001b[39m\u001b[38;5;124mli\u001b[39m\u001b[38;5;124m'\u001b[39m, class_ \u001b[38;5;241m=\u001b[39m \u001b[38;5;124m'\u001b[39m\u001b[38;5;124mactive\u001b[39m\u001b[38;5;124m'\u001b[39m):\n\u001b[1;32m      4\u001b[0m         url \u001b[38;5;241m=\u001b[39m soup\u001b[38;5;241m.\u001b[39mfind(\u001b[38;5;124m'\u001b[39m\u001b[38;5;124mli\u001b[39m\u001b[38;5;124m'\u001b[39m, class_ \u001b[38;5;241m=\u001b[39m \u001b[38;5;124m'\u001b[39m\u001b[38;5;124mactive\u001b[39m\u001b[38;5;124m'\u001b[39m)\u001b[38;5;241m.\u001b[39mfind(\u001b[38;5;124m'\u001b[39m\u001b[38;5;124ma\u001b[39m\u001b[38;5;124m'\u001b[39m)\n",
      "\u001b[0;31mAttributeError\u001b[0m: 'list' object has no attribute 'find'"
     ]
    }
   ],
   "source": [
    "lend = check_lent(lt_url)\n",
    "getnextpage(lend).prettify()"
   ]
  },
  {
   "cell_type": "code",
   "execution_count": 295,
   "id": "1f82c303",
   "metadata": {},
   "outputs": [
    {
     "ename": "NameError",
     "evalue": "name 'review_urls' is not defined",
     "output_type": "error",
     "traceback": [
      "\u001b[0;31m---------------------------------------------------------------------------\u001b[0m",
      "\u001b[0;31mNameError\u001b[0m                                 Traceback (most recent call last)",
      "Input \u001b[0;32mIn [295]\u001b[0m, in \u001b[0;36m<module>\u001b[0;34m\u001b[0m\n\u001b[1;32m     20\u001b[0m             \u001b[38;5;28mprint\u001b[39m(review_title, review_content, review_author, review_star_rating, review_date)\n\u001b[1;32m     21\u001b[0m         \u001b[38;5;28;01mexcept\u001b[39;00m: \u001b[38;5;167;01mAttributeError\u001b[39;00m\n\u001b[0;32m---> 22\u001b[0m review_items(\u001b[43mreview_urls\u001b[49m)\n",
      "\u001b[0;31mNameError\u001b[0m: name 'review_urls' is not defined"
     ]
    }
   ],
   "source": [
    "def review_links():\n",
    "    for review in lt_reviews:\n",
    "        url = 'https://www.lendingtree.com'\n",
    "        review_urls = []\n",
    "        review_urls = url + review['href']\n",
    "#         with open(review_urls)\n",
    "        print(review_urls)\n",
    "        return review_urls\n",
    "        \n",
    "\n",
    "\n",
    "#         print(type(review_urls))\n",
    "#         print(type(review))            \n",
    "        \n",
    "\n",
    "#     for link in review_urls:\n",
    "#         try:\n",
    "#             review_title = link.find('p', class_ = 'reviewTitle')\n",
    "#             review_content = link.find('p', class_ = 'reviewText')\n",
    "#             review_author = link.find('p', class_ = 'consumerName')\n",
    "#             review_star_rating = link.find('p', class_ = 'numRec')\n",
    "#             review_date = link.find('p', class_ = 'consumerReviewDate')\n",
    "#             print(type(link))\n",
    "#             print(review_title, review_content, review_author, review_star_rating, review_date)\n",
    "#         except: AttributeError\n",
    "            \n",
    "           "
   ]
  },
  {
   "cell_type": "code",
   "execution_count": 284,
   "id": "fe8de12a",
   "metadata": {},
   "outputs": [
    {
     "ename": "NameError",
     "evalue": "name 'lt_reviews' is not defined",
     "output_type": "error",
     "traceback": [
      "\u001b[0;31m---------------------------------------------------------------------------\u001b[0m",
      "\u001b[0;31mNameError\u001b[0m                                 Traceback (most recent call last)",
      "Input \u001b[0;32mIn [284]\u001b[0m, in \u001b[0;36m<module>\u001b[0;34m\u001b[0m\n\u001b[0;32m----> 1\u001b[0m \u001b[43mreview_links\u001b[49m\u001b[43m(\u001b[49m\u001b[43m)\u001b[49m\n",
      "Input \u001b[0;32mIn [283]\u001b[0m, in \u001b[0;36mreview_links\u001b[0;34m()\u001b[0m\n\u001b[1;32m      1\u001b[0m \u001b[38;5;28;01mdef\u001b[39;00m \u001b[38;5;21mreview_links\u001b[39m():\n\u001b[0;32m----> 2\u001b[0m     \u001b[38;5;28;01mfor\u001b[39;00m review \u001b[38;5;129;01min\u001b[39;00m \u001b[43mlt_reviews\u001b[49m:\n\u001b[1;32m      3\u001b[0m         url \u001b[38;5;241m=\u001b[39m \u001b[38;5;124m'\u001b[39m\u001b[38;5;124mhttps://www.lendingtree.com\u001b[39m\u001b[38;5;124m'\u001b[39m\n\u001b[1;32m      4\u001b[0m         review_urls \u001b[38;5;241m=\u001b[39m []\n",
      "\u001b[0;31mNameError\u001b[0m: name 'lt_reviews' is not defined"
     ]
    }
   ],
   "source": [
    "review_links()"
   ]
  },
  {
   "cell_type": "code",
   "execution_count": 285,
   "id": "8a304fbe",
   "metadata": {},
   "outputs": [
    {
     "ename": "NameError",
     "evalue": "name 'soup' is not defined",
     "output_type": "error",
     "traceback": [
      "\u001b[0;31m---------------------------------------------------------------------------\u001b[0m",
      "\u001b[0;31mNameError\u001b[0m                                 Traceback (most recent call last)",
      "Input \u001b[0;32mIn [285]\u001b[0m, in \u001b[0;36m<module>\u001b[0;34m\u001b[0m\n\u001b[0;32m----> 1\u001b[0m lt_pages \u001b[38;5;241m=\u001b[39m \u001b[43msoup\u001b[49m\u001b[38;5;241m.\u001b[39mfind_all(\u001b[38;5;124m'\u001b[39m\u001b[38;5;124mspan\u001b[39m\u001b[38;5;124m'\u001b[39m, {\u001b[38;5;124m'\u001b[39m\u001b[38;5;124mclass\u001b[39m\u001b[38;5;124m'\u001b[39m: \u001b[38;5;124m\"\u001b[39m\u001b[38;5;124mactive\u001b[39m\u001b[38;5;124m\"\u001b[39m})\n",
      "\u001b[0;31mNameError\u001b[0m: name 'soup' is not defined"
     ]
    }
   ],
   "source": [
    "lt_pages = soup.find_all('span', {'class': \"active\"})"
   ]
  },
  {
   "cell_type": "code",
   "execution_count": 291,
   "id": "fcddc80c",
   "metadata": {},
   "outputs": [],
   "source": [
    "def find_pages():\n",
    "   \n",
    "    for page in lt_pages:\n",
    "        this_page = int(page.text)\n",
    "        next_page = this_page +1;\n",
    "        print(next_page)\n",
    "        print(this_page)\n",
    "\n",
    "        break;"
   ]
  },
  {
   "cell_type": "code",
   "execution_count": 292,
   "id": "6a1eb3ac",
   "metadata": {},
   "outputs": [
    {
     "ename": "NameError",
     "evalue": "name 'lt_pages' is not defined",
     "output_type": "error",
     "traceback": [
      "\u001b[0;31m---------------------------------------------------------------------------\u001b[0m",
      "\u001b[0;31mNameError\u001b[0m                                 Traceback (most recent call last)",
      "Input \u001b[0;32mIn [292]\u001b[0m, in \u001b[0;36m<module>\u001b[0;34m\u001b[0m\n\u001b[0;32m----> 1\u001b[0m \u001b[43mfind_pages\u001b[49m\u001b[43m(\u001b[49m\u001b[43m)\u001b[49m\n",
      "Input \u001b[0;32mIn [291]\u001b[0m, in \u001b[0;36mfind_pages\u001b[0;34m()\u001b[0m\n\u001b[1;32m      1\u001b[0m \u001b[38;5;28;01mdef\u001b[39;00m \u001b[38;5;21mfind_pages\u001b[39m():\n\u001b[0;32m----> 3\u001b[0m     \u001b[38;5;28;01mfor\u001b[39;00m page \u001b[38;5;129;01min\u001b[39;00m \u001b[43mlt_pages\u001b[49m:\n\u001b[1;32m      4\u001b[0m         this_page \u001b[38;5;241m=\u001b[39m \u001b[38;5;28mint\u001b[39m(page\u001b[38;5;241m.\u001b[39mtext)\n\u001b[1;32m      5\u001b[0m         next_page \u001b[38;5;241m=\u001b[39m this_page \u001b[38;5;241m+\u001b[39m\u001b[38;5;241m1\u001b[39m;\n",
      "\u001b[0;31mNameError\u001b[0m: name 'lt_pages' is not defined"
     ]
    }
   ],
   "source": [
    "find_pages()"
   ]
  },
  {
   "cell_type": "code",
   "execution_count": 290,
   "id": "5cd253b1",
   "metadata": {},
   "outputs": [
    {
     "ename": "NameError",
     "evalue": "name 'lt_reviews' is not defined",
     "output_type": "error",
     "traceback": [
      "\u001b[0;31m---------------------------------------------------------------------------\u001b[0m",
      "\u001b[0;31mNameError\u001b[0m                                 Traceback (most recent call last)",
      "Input \u001b[0;32mIn [290]\u001b[0m, in \u001b[0;36m<module>\u001b[0;34m\u001b[0m\n\u001b[0;32m----> 1\u001b[0m \u001b[38;5;28;01mfor\u001b[39;00m review \u001b[38;5;129;01min\u001b[39;00m \u001b[43mlt_reviews\u001b[49m:\n\u001b[1;32m      2\u001b[0m     \u001b[38;5;28mprint\u001b[39m(review\u001b[38;5;241m.\u001b[39mfind(\u001b[38;5;124m'\u001b[39m\u001b[38;5;124ma\u001b[39m\u001b[38;5;124m'\u001b[39m)[\u001b[38;5;124m'\u001b[39m\u001b[38;5;124mhref\u001b[39m\u001b[38;5;124m'\u001b[39m])\n\u001b[1;32m      3\u001b[0m     requests\u001b[38;5;241m.\u001b[39mget(review)\n",
      "\u001b[0;31mNameError\u001b[0m: name 'lt_reviews' is not defined"
     ]
    }
   ],
   "source": [
    "\n",
    "    \n",
    "    for review in lt_reviews:\n",
    "        print(review.find('a')['href'])\n",
    "        requests.get(review)"
   ]
  },
  {
   "cell_type": "code",
   "execution_count": null,
   "id": "a200ca7e",
   "metadata": {},
   "outputs": [],
   "source": []
  },
  {
   "cell_type": "code",
   "execution_count": null,
   "id": "82a8440b",
   "metadata": {},
   "outputs": [],
   "source": []
  },
  {
   "cell_type": "code",
   "execution_count": null,
   "id": "3f3acd6c",
   "metadata": {},
   "outputs": [],
   "source": []
  }
 ],
 "metadata": {
  "kernelspec": {
   "display_name": "Python 3 (ipykernel)",
   "language": "python",
   "name": "python3"
  },
  "language_info": {
   "codemirror_mode": {
    "name": "ipython",
    "version": 3
   },
   "file_extension": ".py",
   "mimetype": "text/x-python",
   "name": "python",
   "nbconvert_exporter": "python",
   "pygments_lexer": "ipython3",
   "version": "3.9.7"
  }
 },
 "nbformat": 4,
 "nbformat_minor": 5
}
