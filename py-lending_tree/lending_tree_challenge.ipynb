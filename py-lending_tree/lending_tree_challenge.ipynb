{
 "cells": [
  {
   "cell_type": "code",
   "execution_count": 187,
   "id": "3bfa073c",
   "metadata": {},
   "outputs": [],
   "source": [
    "from bs4 import BeautifulSoup\n",
    "import requests"
   ]
  },
  {
   "cell_type": "code",
   "execution_count": 196,
   "id": "0169d071",
   "metadata": {},
   "outputs": [],
   "source": [
    "reviews_url = requests.get('https://www.lendingtree.com/reviews')\n",
    "html = reviews_url.text"
   ]
  },
  {
   "cell_type": "code",
   "execution_count": 197,
   "id": "bbbd4048",
   "metadata": {},
   "outputs": [],
   "source": [
    "soup = BeautifulSoup(html, 'html.parser')"
   ]
  },
  {
   "cell_type": "code",
   "execution_count": 198,
   "id": "9d6e5c9b",
   "metadata": {},
   "outputs": [
    {
     "name": "stdout",
     "output_type": "stream",
     "text": [
      "[<a aria-label=\"2319 reviews for Reliance First Capital, LLC\" class=\"revLink\" href=\"/reviews/mortgage/reliance-first-capital-llc/45102840\">2319 Reviews</a>, <a aria-label=\"1283 reviews for Triumph Lending\" class=\"revLink\" href=\"/reviews/mortgage/triumph-lending/44068646\">1283 Reviews</a>, <a aria-label=\"709 reviews for Silver Fin Capital Group\" class=\"revLink\" href=\"/reviews/mortgage/silver-fin-capital-group/37405089\">709 Reviews</a>, <a aria-label=\"470 reviews for LoanSnap\" class=\"revLink\" href=\"/reviews/mortgage/loansnap/39777117\">470 Reviews</a>, <a aria-label=\"466 reviews for Planet Home Lending\" class=\"revLink\" href=\"/reviews/mortgage/planet-home-lending/57728064\">466 Reviews</a>, <a aria-label=\"296 reviews for Grander Home Loans, Inc\" class=\"revLink\" href=\"/reviews/mortgage/grander-home-loans-inc/58426567\">296 Reviews</a>, <a aria-label=\"413 reviews for Right Start Mortgage Inc\" class=\"revLink\" href=\"/reviews/mortgage/right-start-mortgage-inc/69298672\">413 Reviews</a>, <a aria-label=\"59152 reviews for Fairway Independent Mortgage Corporation\" class=\"revLink\" href=\"/reviews/mortgage/fairway-independent-mortgage-corporation/16236663\">59152 Reviews</a>, <a aria-label=\"53846 reviews for New American Funding\" class=\"revLink\" href=\"/reviews/mortgage/new-american-funding/45679155\">53846 Reviews</a>, <a aria-label=\"11350 reviews for Upstart Network, Inc\" class=\"revLink\" href=\"/reviews/personal/upstart-network-inc/54350158\">11350 Reviews</a>]\n"
     ]
    }
   ],
   "source": [
    "lt_reviews = soup.find_all('a', class_ = \"revLink\")\n",
    "print(lt_reviews)"
   ]
  },
  {
   "cell_type": "code",
   "execution_count": 201,
   "id": "1f82c303",
   "metadata": {},
   "outputs": [
    {
     "name": "stdout",
     "output_type": "stream",
     "text": [
      "https://www.lendingtree.com/reviews/mortgage/reliance-first-capital-llc/45102840\n",
      "https://www.lendingtree.com/reviews/mortgage/triumph-lending/44068646\n",
      "https://www.lendingtree.com/reviews/mortgage/silver-fin-capital-group/37405089\n",
      "https://www.lendingtree.com/reviews/mortgage/loansnap/39777117\n",
      "https://www.lendingtree.com/reviews/mortgage/planet-home-lending/57728064\n",
      "https://www.lendingtree.com/reviews/mortgage/grander-home-loans-inc/58426567\n",
      "https://www.lendingtree.com/reviews/mortgage/right-start-mortgage-inc/69298672\n",
      "https://www.lendingtree.com/reviews/mortgage/fairway-independent-mortgage-corporation/16236663\n",
      "https://www.lendingtree.com/reviews/mortgage/new-american-funding/45679155\n",
      "https://www.lendingtree.com/reviews/personal/upstart-network-inc/54350158\n"
     ]
    }
   ],
   "source": [
    "def review_links():\n",
    "    for review in lt_reviews:\n",
    "        url = 'https://www.lendingtree.com'\n",
    "        review_url = url + review['href']\n",
    "        print(review_url)\n",
    "        \n",
    "review_links()"
   ]
  },
  {
   "cell_type": "code",
   "execution_count": 204,
   "id": "a78f65e0",
   "metadata": {},
   "outputs": [
    {
     "name": "stdout",
     "output_type": "stream",
     "text": [
      "<class 'requests.models.Response'>\n"
     ]
    }
   ],
   "source": [
    "print(type(review_url))"
   ]
  },
  {
   "cell_type": "code",
   "execution_count": 30,
   "id": "8a304fbe",
   "metadata": {},
   "outputs": [],
   "source": [
    "lt_pages = soup.find_all('span', {'class': \"active\"})"
   ]
  },
  {
   "cell_type": "code",
   "execution_count": 71,
   "id": "fcddc80c",
   "metadata": {},
   "outputs": [],
   "source": [
    "def find_pages():\n",
    "   \n",
    "    for page in lt_pages:\n",
    "        this_page = int(page.text)\n",
    "        next_page = this_page +1;\n",
    "        print(next_page)\n",
    "        print(this_page)\n",
    "\n",
    "        break;"
   ]
  },
  {
   "cell_type": "code",
   "execution_count": 72,
   "id": "6a1eb3ac",
   "metadata": {},
   "outputs": [
    {
     "name": "stdout",
     "output_type": "stream",
     "text": [
      "2\n",
      "1\n"
     ]
    }
   ],
   "source": [
    "find_pages()"
   ]
  },
  {
   "cell_type": "code",
   "execution_count": 77,
   "id": "5cd253b1",
   "metadata": {},
   "outputs": [],
   "source": [
    "\n",
    "    \n",
    "    for review in lt_reviews:\n",
    "        print(review.find('a')['href'])\n",
    "        requests.get(review)"
   ]
  },
  {
   "cell_type": "code",
   "execution_count": null,
   "id": "a200ca7e",
   "metadata": {},
   "outputs": [],
   "source": []
  }
 ],
 "metadata": {
  "kernelspec": {
   "display_name": "Python 3 (ipykernel)",
   "language": "python",
   "name": "python3"
  },
  "language_info": {
   "codemirror_mode": {
    "name": "ipython",
    "version": 3
   },
   "file_extension": ".py",
   "mimetype": "text/x-python",
   "name": "python",
   "nbconvert_exporter": "python",
   "pygments_lexer": "ipython3",
   "version": "3.9.7"
  }
 },
 "nbformat": 4,
 "nbformat_minor": 5
}
