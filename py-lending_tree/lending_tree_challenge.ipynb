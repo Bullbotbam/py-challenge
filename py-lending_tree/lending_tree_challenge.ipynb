{
 "cells": [
  {
   "cell_type": "code",
   "execution_count": 3,
   "id": "3bfa073c",
   "metadata": {},
   "outputs": [],
   "source": [
    "from bs4 import BeautifulSoup\n",
    "import requests\n",
    "import webbrowser as wb\n",
    "import pandas as pd\n",
    "import pyautogui, time"
   ]
  },
  {
   "cell_type": "code",
   "execution_count": 8,
   "id": "7553037a",
   "metadata": {},
   "outputs": [
    {
     "ename": "Error",
     "evalue": "could not locate runnable browser",
     "output_type": "error",
     "traceback": [
      "\u001b[0;31m---------------------------------------------------------------------------\u001b[0m",
      "\u001b[0;31mError\u001b[0m                                     Traceback (most recent call last)",
      "Input \u001b[0;32mIn [8]\u001b[0m, in \u001b[0;36m<module>\u001b[0;34m\u001b[0m\n\u001b[1;32m     41\u001b[0m \u001b[38;5;66;03m#     return reviewlist\u001b[39;00m\n\u001b[1;32m     42\u001b[0m \u001b[38;5;66;03m# iterate over all of the possible pages\u001b[39;00m\n\u001b[1;32m     43\u001b[0m \u001b[38;5;28;01mfor\u001b[39;00m page \u001b[38;5;129;01min\u001b[39;00m \u001b[38;5;28mrange\u001b[39m(\u001b[38;5;241m1\u001b[39m, \u001b[38;5;241m2\u001b[39m):\n\u001b[0;32m---> 44\u001b[0m     \u001b[43mgetReviews\u001b[49m\u001b[43m(\u001b[49m\u001b[43mpage\u001b[49m\u001b[43m)\u001b[49m\n\u001b[1;32m     46\u001b[0m time\u001b[38;5;241m.\u001b[39msleep(\u001b[38;5;241m.5\u001b[39m)\n\u001b[1;32m     47\u001b[0m pyautogui\u001b[38;5;241m.\u001b[39mhotkey(\u001b[38;5;124m'\u001b[39m\u001b[38;5;124mcommand\u001b[39m\u001b[38;5;124m'\u001b[39m, \u001b[38;5;124m'\u001b[39m\u001b[38;5;124mw\u001b[39m\u001b[38;5;124m'\u001b[39m)\n",
      "Input \u001b[0;32mIn [8]\u001b[0m, in \u001b[0;36mgetReviews\u001b[0;34m(page)\u001b[0m\n\u001b[1;32m     13\u001b[0m \u001b[38;5;28;01mfor\u001b[39;00m i \u001b[38;5;129;01min\u001b[39;00m reviews:\n\u001b[1;32m     14\u001b[0m     review \u001b[38;5;241m=\u001b[39m \u001b[38;5;124m'\u001b[39m\u001b[38;5;124mhttps://www.lendingtree.com\u001b[39m\u001b[38;5;124m'\u001b[39m \u001b[38;5;241m+\u001b[39m i\u001b[38;5;241m.\u001b[39mfind(\u001b[38;5;124m'\u001b[39m\u001b[38;5;124ma\u001b[39m\u001b[38;5;124m'\u001b[39m, class_\u001b[38;5;241m=\u001b[39m\u001b[38;5;124m'\u001b[39m\u001b[38;5;124mlogo\u001b[39m\u001b[38;5;124m'\u001b[39m)[\u001b[38;5;124m'\u001b[39m\u001b[38;5;124mhref\u001b[39m\u001b[38;5;124m'\u001b[39m]\n\u001b[0;32m---> 15\u001b[0m     get \u001b[38;5;241m=\u001b[39m \u001b[43mwb\u001b[49m\u001b[38;5;241;43m.\u001b[39;49m\u001b[43mget\u001b[49m\u001b[43m(\u001b[49m\u001b[43mreview\u001b[49m\u001b[43m)\u001b[49m\n\u001b[1;32m     16\u001b[0m     time\u001b[38;5;241m.\u001b[39msleep(\u001b[38;5;241m.5\u001b[39m)\n\u001b[1;32m     21\u001b[0m     r2 \u001b[38;5;241m=\u001b[39m requests\u001b[38;5;241m.\u001b[39mget(review, headers\u001b[38;5;241m=\u001b[39mheaders)\n",
      "File \u001b[0;32m/opt/homebrew/Cellar/python@3.9/3.9.7_1/Frameworks/Python.framework/Versions/3.9/lib/python3.9/webbrowser.py:65\u001b[0m, in \u001b[0;36mget\u001b[0;34m(using)\u001b[0m\n\u001b[1;32m     63\u001b[0m         \u001b[38;5;28;01melif\u001b[39;00m command[\u001b[38;5;241m0\u001b[39m] \u001b[38;5;129;01mis\u001b[39;00m \u001b[38;5;129;01mnot\u001b[39;00m \u001b[38;5;28;01mNone\u001b[39;00m:\n\u001b[1;32m     64\u001b[0m             \u001b[38;5;28;01mreturn\u001b[39;00m command[\u001b[38;5;241m0\u001b[39m]()\n\u001b[0;32m---> 65\u001b[0m \u001b[38;5;28;01mraise\u001b[39;00m Error(\u001b[38;5;124m\"\u001b[39m\u001b[38;5;124mcould not locate runnable browser\u001b[39m\u001b[38;5;124m\"\u001b[39m)\n",
      "\u001b[0;31mError\u001b[0m: could not locate runnable browser"
     ]
    }
   ],
   "source": [
    "headers = {'User-Agent': 'Mozilla/5.0 (Macintosh; Intel Mac OS X 10_15_7) AppleWebKit/537.36 (KHTML, like Gecko) Chrome/98.0.4758.80 Safari/537.36'}\n",
    "\n",
    "reviewlist = []\n",
    "banklist = []\n",
    "\n",
    "def getReviews(page):\n",
    "    lt_url = f'https://www.lendingtree.com/reviews?sortby=MF9kZXNj&pid={page}'\n",
    "    r = requests.get(lt_url, headers=headers)\n",
    "    soup = BeautifulSoup(r.text, 'html.parser')\n",
    "    reviews = soup.find_all('div', class_='reviewContent')\n",
    "# find the element containing links to each review, \n",
    "\n",
    "    for i in reviews:\n",
    "        review = 'https://www.lendingtree.com' + i.find('a', class_='logo')['href']\n",
    "#         get = wb.get(review)\n",
    "#         time.sleep(.5)\n",
    "        return review\n",
    "       \n",
    "           \n",
    "           \n",
    "        \n",
    "        r2 = requests.get(review, headers=headers)\n",
    "        soup = BeautifulSoup(r2.text, 'html.parser')\n",
    "        \n",
    "        banks = soup.find_all('div', class_='mainReviews')\n",
    "        \n",
    "# loop through each link; open the link search for tags containing desired information.\n",
    "        for j in banks:\n",
    "            lendreviews = {\n",
    "                'title': j.find('p', class_='reviewTitle').text,\n",
    "                'content': j.find('p', class_='reviewText').text,\n",
    "                'author': j.find('p', class_='consumerName').text,\n",
    "                'rating': j.find('div', class_='numRec').text,\n",
    "                'type': j.find('div', class_='loanType').text,\n",
    "                'date': j.find('p', class_='consumerReviewDate').text,\n",
    "                \n",
    "            }\n",
    "#             print(lendreviews)\n",
    "       \n",
    "        banklist.append(lendreviews)\n",
    "        reviewlist.append(review)\n",
    "#     return reviewlist\n",
    "# iterate over all of the possible pages\n",
    "for page in range(1, 2):\n",
    "    getReviews(page)\n",
    "    \n",
    "time.sleep(.5)\n",
    "pyautogui.hotkey('command', 'w')\n",
    "print('all closed')  \n",
    "df = pd.DataFrame(reviewlist)\n",
    "df.to_excel('reviewlist.xlsx')\n",
    "print('donzo')\n",
    "    \n",
    "    \n",
    "# print(reviewlist)\n",
    "# print(type(reviewlist))\n",
    "    \n",
    "\n"
   ]
  },
  {
   "cell_type": "code",
   "execution_count": null,
   "id": "6d712294",
   "metadata": {},
   "outputs": [],
   "source": []
  }
 ],
 "metadata": {
  "kernelspec": {
   "display_name": "Python 3 (ipykernel)",
   "language": "python",
   "name": "python3"
  },
  "language_info": {
   "codemirror_mode": {
    "name": "ipython",
    "version": 3
   },
   "file_extension": ".py",
   "mimetype": "text/x-python",
   "name": "python",
   "nbconvert_exporter": "python",
   "pygments_lexer": "ipython3",
   "version": "3.9.7"
  }
 },
 "nbformat": 4,
 "nbformat_minor": 5
}
